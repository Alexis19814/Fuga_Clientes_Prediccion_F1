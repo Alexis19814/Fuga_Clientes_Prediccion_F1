{
 "cells": [
  {
   "cell_type": "markdown",
   "metadata": {},
   "source": [
    "# Descripción del proyecto\n",
    "\n",
    "Los clientes de Beta Bank se están yendo, cada mes, poco a poco. Los banqueros descubrieron que es más barato salvar a los clientes existentes que atraer nuevos.\n",
    "\n",
    "Necesitamos predecir si un cliente dejará el banco pronto. Tú tienes los datos sobre el comportamiento pasado de los clientes y la terminación de contratos con el banco.\n",
    "\n",
    "Crea un modelo con el máximo valor F1 posible. Para aprobar la revisión, necesitas un valor F1 de al menos 0.59. Verifica F1 para el conjunto de prueba. \n",
    "\n",
    "Además, debes medir la métrica AUC-ROC y compararla con el valor F1."
   ]
  },
  {
   "cell_type": "markdown",
   "metadata": {},
   "source": [
    "# Cargar, revisar y preparar los datos "
   ]
  },
  {
   "cell_type": "code",
   "execution_count": 28,
   "metadata": {},
   "outputs": [],
   "source": [
    "# Importar librerias\n",
    "import matplotlib.pyplot as plt\n",
    "import numpy as np\n",
    "import pandas as pd\n",
    "from sklearn.ensemble import RandomForestClassifier\n",
    "from sklearn.linear_model import LogisticRegression\n",
    "from sklearn.metrics import accuracy_score\n",
    "from sklearn.metrics import confusion_matrix\n",
    "from sklearn.metrics import f1_score\n",
    "from sklearn.metrics import precision_score\n",
    "from sklearn.metrics import precision_recall_curve\n",
    "from sklearn.metrics import recall_score\n",
    "from sklearn.metrics import roc_auc_score\n",
    "from sklearn.metrics import roc_curve\n",
    "from sklearn.model_selection import train_test_split\n",
    "from sklearn.model_selection import GridSearchCV\n",
    "from sklearn.preprocessing import StandardScaler\n",
    "from sklearn.preprocessing import OrdinalEncoder\n",
    "from sklearn.tree import DecisionTreeClassifier\n",
    "from sklearn.utils import shuffle"
   ]
  },
  {
   "cell_type": "code",
   "execution_count": 2,
   "metadata": {},
   "outputs": [
    {
     "name": "stdout",
     "output_type": "stream",
     "text": [
      "<class 'pandas.core.frame.DataFrame'>\n",
      "RangeIndex: 10000 entries, 0 to 9999\n",
      "Data columns (total 14 columns):\n",
      " #   Column           Non-Null Count  Dtype  \n",
      "---  ------           --------------  -----  \n",
      " 0   RowNumber        10000 non-null  int64  \n",
      " 1   CustomerId       10000 non-null  int64  \n",
      " 2   Surname          10000 non-null  object \n",
      " 3   CreditScore      10000 non-null  int64  \n",
      " 4   Geography        10000 non-null  object \n",
      " 5   Gender           10000 non-null  object \n",
      " 6   Age              10000 non-null  int64  \n",
      " 7   Tenure           9091 non-null   float64\n",
      " 8   Balance          10000 non-null  float64\n",
      " 9   NumOfProducts    10000 non-null  int64  \n",
      " 10  HasCrCard        10000 non-null  int64  \n",
      " 11  IsActiveMember   10000 non-null  int64  \n",
      " 12  EstimatedSalary  10000 non-null  float64\n",
      " 13  Exited           10000 non-null  int64  \n",
      "dtypes: float64(3), int64(8), object(3)\n",
      "memory usage: 1.1+ MB\n",
      "RowNumber            0\n",
      "CustomerId           0\n",
      "Surname              0\n",
      "CreditScore          0\n",
      "Geography            0\n",
      "Gender               0\n",
      "Age                  0\n",
      "Tenure             909\n",
      "Balance              0\n",
      "NumOfProducts        0\n",
      "HasCrCard            0\n",
      "IsActiveMember       0\n",
      "EstimatedSalary      0\n",
      "Exited               0\n",
      "dtype: int64\n",
      "0\n",
      "   RowNumber  CustomerId   Surname  CreditScore Geography  Gender  Age  \\\n",
      "0          1    15634602  Hargrave          619    France  Female   42   \n",
      "1          2    15647311      Hill          608     Spain  Female   41   \n",
      "2          3    15619304      Onio          502    France  Female   42   \n",
      "3          4    15701354      Boni          699    France  Female   39   \n",
      "4          5    15737888  Mitchell          850     Spain  Female   43   \n",
      "5          6    15574012       Chu          645     Spain    Male   44   \n",
      "6          7    15592531  Bartlett          822    France    Male   50   \n",
      "7          8    15656148    Obinna          376   Germany  Female   29   \n",
      "8          9    15792365        He          501    France    Male   44   \n",
      "9         10    15592389        H?          684    France    Male   27   \n",
      "\n",
      "   Tenure    Balance  NumOfProducts  HasCrCard  IsActiveMember  \\\n",
      "0     2.0       0.00              1          1               1   \n",
      "1     1.0   83807.86              1          0               1   \n",
      "2     8.0  159660.80              3          1               0   \n",
      "3     1.0       0.00              2          0               0   \n",
      "4     2.0  125510.82              1          1               1   \n",
      "5     8.0  113755.78              2          1               0   \n",
      "6     7.0       0.00              2          1               1   \n",
      "7     4.0  115046.74              4          1               0   \n",
      "8     4.0  142051.07              2          0               1   \n",
      "9     2.0  134603.88              1          1               1   \n",
      "\n",
      "   EstimatedSalary  Exited  \n",
      "0        101348.88       1  \n",
      "1        112542.58       0  \n",
      "2        113931.57       1  \n",
      "3         93826.63       0  \n",
      "4         79084.10       0  \n",
      "5        149756.71       1  \n",
      "6         10062.80       0  \n",
      "7        119346.88       1  \n",
      "8         74940.50       0  \n",
      "9         71725.73       0  \n"
     ]
    }
   ],
   "source": [
    "# Carga de los datos\n",
    "data = pd.read_csv('/datasets/Churn.csv')\n",
    "# Informacion general \n",
    "data.info()\n",
    "# Revisar duplicados y valores ausentes\n",
    "print(data.isna().sum())\n",
    "print(data.duplicated().sum())\n",
    "# mostrar parte del datframe\n",
    "print(data.head(10))"
   ]
  },
  {
   "cell_type": "code",
   "execution_count": 3,
   "metadata": {},
   "outputs": [],
   "source": [
    "# Rellenar valores ausentes\n",
    "data['Tenure'] = data['Tenure'].fillna(data['Tenure'].median()).astype('int64')"
   ]
  },
  {
   "cell_type": "code",
   "execution_count": 4,
   "metadata": {},
   "outputs": [
    {
     "name": "stdout",
     "output_type": "stream",
     "text": [
      "      RowNumber  CustomerId  CreditScore  Age  Tenure    Balance  \\\n",
      "0             1    15634602          619   42       2       0.00   \n",
      "1             2    15647311          608   41       1   83807.86   \n",
      "2             3    15619304          502   42       8  159660.80   \n",
      "3             4    15701354          699   39       1       0.00   \n",
      "4             5    15737888          850   43       2  125510.82   \n",
      "...         ...         ...          ...  ...     ...        ...   \n",
      "9995       9996    15606229          771   39       5       0.00   \n",
      "9996       9997    15569892          516   35      10   57369.61   \n",
      "9997       9998    15584532          709   36       7       0.00   \n",
      "9998       9999    15682355          772   42       3   75075.31   \n",
      "9999      10000    15628319          792   28       5  130142.79   \n",
      "\n",
      "      NumOfProducts  HasCrCard  IsActiveMember  EstimatedSalary  Exited  \\\n",
      "0                 1          1               1        101348.88       1   \n",
      "1                 1          0               1        112542.58       0   \n",
      "2                 3          1               0        113931.57       1   \n",
      "3                 2          0               0         93826.63       0   \n",
      "4                 1          1               1         79084.10       0   \n",
      "...             ...        ...             ...              ...     ...   \n",
      "9995              2          1               0         96270.64       0   \n",
      "9996              1          1               1        101699.77       0   \n",
      "9997              1          0               1         42085.58       1   \n",
      "9998              2          1               0         92888.52       1   \n",
      "9999              1          1               0         38190.78       0   \n",
      "\n",
      "      Geography_Germany  Geography_Spain  Gender_Male  \n",
      "0                     0                0            0  \n",
      "1                     0                1            0  \n",
      "2                     0                0            0  \n",
      "3                     0                0            0  \n",
      "4                     0                1            0  \n",
      "...                 ...              ...          ...  \n",
      "9995                  0                0            1  \n",
      "9996                  0                0            1  \n",
      "9997                  0                0            0  \n",
      "9998                  1                0            1  \n",
      "9999                  0                0            0  \n",
      "\n",
      "[10000 rows x 14 columns]\n"
     ]
    }
   ],
   "source": [
    "# Creamos variables dummies \n",
    "data_ohe = (pd.get_dummies(data.drop('Surname', axis=1),drop_first=True))\n",
    "print(data_ohe)"
   ]
  },
  {
   "cell_type": "code",
   "execution_count": 5,
   "metadata": {},
   "outputs": [
    {
     "name": "stdout",
     "output_type": "stream",
     "text": [
      "      CreditScore       Age    Tenure   Balance  NumOfProducts  HasCrCard  \\\n",
      "0       -6.734251 -3.683345 -2.204503 -1.225867      -4.198207          1   \n",
      "1       -6.735429 -3.692438 -2.335790 -1.225846      -4.198207          0   \n",
      "2       -6.746776 -3.683345 -1.416780 -1.225826       1.713916          1   \n",
      "3       -6.725686 -3.710622 -2.335790 -1.225867      -1.242146          0   \n",
      "4       -6.709521 -3.674253 -2.204503 -1.225835      -4.198207          1   \n",
      "...           ...       ...       ...       ...            ...        ...   \n",
      "9995    -6.717978 -3.710622 -1.810641 -1.225867      -1.242146          1   \n",
      "9996    -6.745278 -3.746992 -1.154206 -1.225853      -4.198207          1   \n",
      "9997    -6.724616 -3.737899 -1.548067 -1.225867      -4.198207          0   \n",
      "9998    -6.717871 -3.683345 -2.073216 -1.225848      -1.242146          1   \n",
      "9999    -6.715730 -3.810638 -1.810641 -1.225834      -4.198207          1   \n",
      "\n",
      "      IsActiveMember  EstimatedSalary  Exited  Geography_Germany  \\\n",
      "0                  1        -1.740469       1                  0   \n",
      "1                  1        -1.740465       0                  0   \n",
      "2                  0        -1.740465       1                  0   \n",
      "3                  0        -1.740471       0                  0   \n",
      "4                  1        -1.740476       0                  0   \n",
      "...              ...              ...     ...                ...   \n",
      "9995               0        -1.740470       0                  0   \n",
      "9996               1        -1.740469       0                  0   \n",
      "9997               1        -1.740487       1                  0   \n",
      "9998               0        -1.740471       1                  1   \n",
      "9999               0        -1.740488       0                  0   \n",
      "\n",
      "      Geography_Spain  Gender_Male  \n",
      "0                   0            0  \n",
      "1                   1            0  \n",
      "2                   0            0  \n",
      "3                   0            0  \n",
      "4                   1            0  \n",
      "...               ...          ...  \n",
      "9995                0            1  \n",
      "9996                0            1  \n",
      "9997                0            0  \n",
      "9998                0            1  \n",
      "9999                0            0  \n",
      "\n",
      "[10000 rows x 12 columns]\n"
     ]
    }
   ],
   "source": [
    "# Escalado de variables \n",
    "numeric = ['CreditScore', 'Age', 'Balance', 'NumOfProducts', 'EstimatedSalary', 'Tenure']\n",
    "scaler = StandardScaler()\n",
    "scaler.fit(data_ohe[numeric])\n",
    "data_ohe[numeric] = scaler.transform(data_ohe[numeric])\n",
    "data_ohe[numeric] = scaler.transform(data_ohe[numeric])\n",
    "# Resetear los índices de los DataFrames\n",
    "data_ohe.reset_index(drop=True, inplace=True)\n",
    "data_ohe.reset_index(drop=True, inplace=True)\n",
    "# Eliminar coummnas innecesarias para el entreno del modelo\n",
    "data_ohe = data_ohe.drop(['RowNumber', 'CustomerId'], axis=1)\n",
    "# Convertir booleanos a enteros\n",
    "data_ohe['Geography_Germany'] = data_ohe['Geography_Germany'].astype(int)\n",
    "data_ohe['Geography_Spain'] = data_ohe['Geography_Spain'].astype(int)\n",
    "data_ohe['Gender_Male'] = data_ohe['Gender_Male'].astype(int)\n",
    "\n",
    "print(data_ohe)"
   ]
  },
  {
   "cell_type": "code",
   "execution_count": 6,
   "metadata": {},
   "outputs": [
    {
     "name": "stdout",
     "output_type": "stream",
     "text": [
      "Tamaño del conjunto de entrenamiento: (6000, 12)\n",
      "Tamaño del conjunto de validación: (2000, 12)\n",
      "Tamaño del conjunto de prueba: (2000, 12)\n",
      "      CreditScore       Age    Tenure   Balance  NumOfProducts  HasCrCard  \\\n",
      "492     -6.732110 -3.719715 -1.941928 -1.225846      -1.242146          0   \n",
      "6655    -6.741210 -3.665161 -1.810641 -1.225845      -4.198207          1   \n",
      "4287    -6.724081 -3.583330 -2.335790 -1.225842      -4.198207          1   \n",
      "42      -6.740995 -3.510592 -2.204503 -1.225837      -4.198207          1   \n",
      "8178    -6.724830 -3.646976 -1.548067 -1.225835      -1.242146          1   \n",
      "\n",
      "      IsActiveMember  EstimatedSalary  Geography_Germany  Geography_Spain  \\\n",
      "492                1        -1.740464                  0                0   \n",
      "6655               1        -1.740482                  0                0   \n",
      "4287               1        -1.740478                  1                0   \n",
      "42                 1        -1.740471                  0                0   \n",
      "8178               1        -1.740455                  0                0   \n",
      "\n",
      "      Gender_Male  \n",
      "492             0  \n",
      "6655            1  \n",
      "4287            1  \n",
      "42              0  \n",
      "8178            0  \n"
     ]
    },
    {
     "data": {
      "text/plain": [
       "(6000, 11)"
      ]
     },
     "execution_count": 6,
     "metadata": {},
     "output_type": "execute_result"
    }
   ],
   "source": [
    "# Primero, dividimos el dataset en entrenamiento y prueba\n",
    "data_train_valid, data_test = train_test_split(data_ohe, test_size=0.2, random_state=12345)\n",
    "# Luego, dividimos el conjunto de entrenamiento en entrenamiento y validación\n",
    "data_train, data_valid = train_test_split(data_train_valid, test_size=0.25, random_state=12345)\n",
    "# Verificamos los tamaños de cada conjunto\n",
    "print(\"Tamaño del conjunto de entrenamiento:\", data_train.shape)\n",
    "print(\"Tamaño del conjunto de validación:\", data_valid.shape)\n",
    "print(\"Tamaño del conjunto de prueba:\", data_test.shape)\n",
    "# Dividiendo dataset de entrenamiento en variables independientes y variable dependiente\n",
    "features_train = data_train.drop(['Exited'], axis=1)\n",
    "target_train = data_train['Exited']\n",
    "# Dividiendo dataset de validación en variables independientes y variable dependiente\n",
    "features_valid = data_valid.drop(['Exited'], axis=1)\n",
    "target_valid = data_valid['Exited']\n",
    "# Dividiendo dataset de pruebas en variables independientes y variable dependiente\n",
    "features_test = data_test.drop(['Exited'], axis=1)\n",
    "target_test = data_test['Exited']\n",
    "print(features_train.head())\n",
    "features_train.shape"
   ]
  },
  {
   "cell_type": "code",
   "execution_count": 7,
   "metadata": {},
   "outputs": [
    {
     "name": "stdout",
     "output_type": "stream",
     "text": [
      "0    0.7963\n",
      "1    0.2037\n",
      "Name: Exited, dtype: float64\n"
     ]
    },
    {
     "data": {
      "text/plain": [
       "<AxesSubplot:>"
      ]
     },
     "execution_count": 7,
     "metadata": {},
     "output_type": "execute_result"
    },
    {
     "data": {
      "image/png": "[encoded data removed]",
      "text/plain": [
       "<Figure size 640x480 with 1 Axes>"
      ]
     },
     "metadata": {},
     "output_type": "display_data"
    }
   ],
   "source": [
    "# Contamos la cantidad 1  y 0 para dataframe original\n",
    "class_frequency = data_ohe['Exited'].value_counts(normalize=True)\n",
    "print(class_frequency)\n",
    "class_frequency.plot(kind='bar')"
   ]
  },
  {
   "cell_type": "code",
   "execution_count": 8,
   "metadata": {},
   "outputs": [
    {
     "name": "stdout",
     "output_type": "stream",
     "text": [
      "0    0.796833\n",
      "1    0.203167\n",
      "Name: Exited, dtype: float64\n"
     ]
    },
    {
     "data": {
      "text/plain": [
       "<AxesSubplot:>"
      ]
     },
     "execution_count": 8,
     "metadata": {},
     "output_type": "execute_result"
    },
    {
     "data": {
      "image/png": "[encoded data removed]",
      "text/plain": [
       "<Figure size 640x480 with 1 Axes>"
      ]
     },
     "metadata": {},
     "output_type": "display_data"
    }
   ],
   "source": [
    "# Contamos la cantidad 1  y 0 para dataframe de entrenamiento\n",
    "class_frequency_train = target_train.value_counts(normalize=True)\n",
    "print(class_frequency_train)\n",
    "class_frequency_train.plot(kind='bar')"
   ]
  },
  {
   "cell_type": "code",
   "execution_count": 9,
   "metadata": {},
   "outputs": [
    {
     "name": "stdout",
     "output_type": "stream",
     "text": [
      "0    0.8045\n",
      "1    0.1955\n",
      "Name: Exited, dtype: float64\n"
     ]
    },
    {
     "data": {
      "text/plain": [
       "<AxesSubplot:>"
      ]
     },
     "execution_count": 9,
     "metadata": {},
     "output_type": "execute_result"
    },
    {
     "data": {
      "image/png": "[encoded data removed]",
      "text/plain": [
       "<Figure size 640x480 with 1 Axes>"
      ]
     },
     "metadata": {},
     "output_type": "display_data"
    }
   ],
   "source": [
    "# Contamos la cantidad 1  y 0 para dataframe de validacion\n",
    "class_frequency_valid = target_valid.value_counts(normalize=True)\n",
    "print(class_frequency_valid)\n",
    "class_frequency_valid.plot(kind='bar')"
   ]
  },
  {
   "cell_type": "code",
   "execution_count": 10,
   "metadata": {},
   "outputs": [
    {
     "name": "stdout",
     "output_type": "stream",
     "text": [
      "0    0.7865\n",
      "1    0.2135\n",
      "Name: Exited, dtype: float64\n"
     ]
    },
    {
     "data": {
      "text/plain": [
       "<AxesSubplot:>"
      ]
     },
     "execution_count": 10,
     "metadata": {},
     "output_type": "execute_result"
    },
    {
     "data": {
      "image/png": "[encoded data removed]",
      "text/plain": [
       "<Figure size 640x480 with 1 Axes>"
      ]
     },
     "metadata": {},
     "output_type": "display_data"
    }
   ],
   "source": [
    "# Contamos la cantidad 1  y 0 para dataframe de prueba\n",
    "class_frequency_test = target_test.value_counts(normalize=True)\n",
    "print(class_frequency_test)\n",
    "class_frequency_test.plot(kind='bar')"
   ]
  },
  {
   "cell_type": "markdown",
   "metadata": {},
   "source": [
    "En este dataframe tenemos 14 columnas con 10000 registros, tenemos 909 registros vacios en la 'Tenure', no tiene registros duplicados y los tipos de datos son los correcto.\n",
    "\n",
    "Para el los valores ausentes los rellene con la mediana para no sesgar la data\n",
    "\n",
    "Se crearon variables dummies y se realizo el escalado de las variables \n",
    "\n",
    "Dividir el dataframe en 60% entrenamiento, 20% validacion y 20% prueba \n",
    "\n",
    "Se realizo un análisis de que tan balanceados estan los datos que tenemos, en el dataframe original hay 79.63% de ceros y 20.37% de unos \n",
    "\n",
    "Para el dataframe de entrenamiento hay 79.68% de ceros y 20.31% de unos \n"
   ]
  },
  {
   "cell_type": "markdown",
   "metadata": {},
   "source": [
    "# Entrenamiento del modelo sin tener en cuenta el desequilibrio"
   ]
  },
  {
   "cell_type": "code",
   "execution_count": 11,
   "metadata": {},
   "outputs": [
    {
     "name": "stdout",
     "output_type": "stream",
     "text": [
      "F1 validacion : 0.4944375772558715\n",
      "F1 prueba : 0.4861751152073733\n"
     ]
    }
   ],
   "source": [
    "# Modelo de arbol de decisiones\n",
    "model_tree = DecisionTreeClassifier(random_state=12345)\n",
    "model_tree.fit(features_train,target_train)\n",
    "predictions_tree = model_tree.predict(features_valid)\n",
    "predictions_tree_test = model_tree.predict(features_test)\n",
    "print('F1 validacion :',f1_score(target_valid, predictions_tree))\n",
    "print('F1 prueba :',f1_score(target_test,predictions_tree_test))"
   ]
  },
  {
   "cell_type": "code",
   "execution_count": 12,
   "metadata": {},
   "outputs": [
    {
     "name": "stdout",
     "output_type": "stream",
     "text": [
      "F1 validacion : 0.5419354838709678\n",
      "F1 prueba : 0.5797950219619326\n"
     ]
    }
   ],
   "source": [
    "# Modelo de bosque aleatorio \n",
    "model_forest = RandomForestClassifier(random_state=12345)\n",
    "model_forest.fit(features_train,target_train)\n",
    "predictions_forest = model_forest.predict(features_valid)\n",
    "predictions_forest_test = model_forest.predict(features_test)\n",
    "print('F1 validacion :',f1_score(target_valid, predictions_forest))\n",
    "print('F1 prueba :',f1_score(target_test,predictions_forest_test))"
   ]
  },
  {
   "cell_type": "code",
   "execution_count": 13,
   "metadata": {},
   "outputs": [
    {
     "name": "stdout",
     "output_type": "stream",
     "text": [
      "F1 del modelo de regresión logística en el conjunto de validación : 0.2751937984496124\n",
      "F1 del modelo de regresión logística en el conjunto de prueba : 0.2568807339449541\n"
     ]
    }
   ],
   "source": [
    "# Modelo de regresion lineal\n",
    "model_reg = LogisticRegression(random_state=12345, solver='liblinear')\n",
    "model_reg.fit(features_train,target_train)\n",
    "predictions_reg = model_reg.predict(features_valid)\n",
    "predictions_reg_test = model_reg.predict(features_test)\n",
    "print('F1 del modelo de regresión logística en el conjunto de validación :',f1_score(target_valid,predictions_reg))\n",
    "print('F1 del modelo de regresión logística en el conjunto de prueba :',f1_score(target_test,predictions_reg_test))"
   ]
  },
  {
   "cell_type": "markdown",
   "metadata": {},
   "source": [
    "Una vez realizado los modelos, el mejor es un bosque aleatorio con un F1 de 0.5797"
   ]
  },
  {
   "cell_type": "markdown",
   "metadata": {},
   "source": [
    "# Mejora la calidad del modelo"
   ]
  },
  {
   "cell_type": "code",
   "execution_count": 14,
   "metadata": {},
   "outputs": [
    {
     "name": "stdout",
     "output_type": "stream",
     "text": [
      "[[1548   61]\n",
      " [ 223  168]]\n",
      "[[1515   58]\n",
      " [ 229  198]]\n"
     ]
    }
   ],
   "source": [
    "# Generar una matriz de confusión\n",
    "print(confusion_matrix(target_valid,predictions_forest))\n",
    "print(confusion_matrix(target_test,predictions_forest_test))"
   ]
  },
  {
   "cell_type": "code",
   "execution_count": 15,
   "metadata": {},
   "outputs": [
    {
     "name": "stdout",
     "output_type": "stream",
     "text": [
      "(9546, 11)\n",
      "(9546,)\n",
      "0    4781\n",
      "1    4765\n",
      "Name: Exited, dtype: int64\n"
     ]
    }
   ],
   "source": [
    "# Aplico un sobremuestreo\n",
    "# Calculando las veces que se debe de multiplicar las carcteristicas con valor de 1 para ser balanceada\n",
    "ones = data_ohe['Exited'][data_ohe['Exited'] == 1].count()\n",
    "zeros = data_ohe['Exited'][data_ohe['Exited'] == 0].count()\n",
    "repeat = zeros/ones\n",
    "#  Esta función multiplica la caracteristica rara para balanceo de clases\n",
    "def upsample(features, target, repeat):\n",
    "    features_zeros = features[target == 0]\n",
    "    features_ones = features[target == 1]\n",
    "    target_zeros = target[target == 0]\n",
    "    target_ones = target[target == 1]\n",
    "    repeat_int = int(zeros/ones)\n",
    "    # Parte fraccionaria de repeat\n",
    "    repeat_frac = repeat - repeat_int\n",
    "    arg1 = pd.concat([features_zeros] + [features_ones] * repeat_int)\n",
    "    arg2 = pd.concat([target_zeros] + [target_ones] * repeat_int)\n",
    "    # Sobremuestreo con la parte fraccionaria\n",
    "    if repeat_frac > 0:\n",
    "        frac_sample = features_ones.sample(frac=repeat_frac, random_state=12345)\n",
    "        frac_target = target_ones.sample(frac=repeat_frac, random_state=12345)\n",
    "        upsampled_features = pd.concat([arg1, frac_sample])\n",
    "        upsampled_target = pd.concat([arg2, frac_target])\n",
    "        \n",
    "    features_upsampled, target_upsampled = shuffle(upsampled_features, upsampled_target, random_state=12345)\n",
    "  \n",
    "    return features_upsampled, target_upsampled\n",
    "\n",
    "features_upsampled, target_upsampled = upsample(features_train, target_train, repeat)\n",
    "\n",
    "print(features_upsampled.shape)\n",
    "print(target_upsampled.shape)\n",
    "\n",
    "# Distribución de la variable objetivo\n",
    "class_distribution = target_upsampled.value_counts()\n",
    "print(class_distribution)"
   ]
  },
  {
   "cell_type": "code",
   "execution_count": 18,
   "metadata": {},
   "outputs": [
    {
     "name": "stdout",
     "output_type": "stream",
     "text": [
      "Mejor f1 en validación: 0.5622317596566523 con max_depth=8 y min_samples_split=12\n"
     ]
    }
   ],
   "source": [
    "# Modelo de arbol de decisiones\n",
    "best_f1 = 0\n",
    "best_depth = 0\n",
    "best_min_samples_split = 0\n",
    "\n",
    "for depth in range(1, 30):\n",
    "    for min_samples_split in range(2, 30):\n",
    "        model_tree = DecisionTreeClassifier(random_state=12345, max_depth=depth, min_samples_split=min_samples_split)\n",
    "        model_tree.fit(features_upsampled, target_upsampled)\n",
    "        predictions_valid = model_tree.predict(features_valid)\n",
    "        f1_tree = f1_score(target_valid, predictions_valid)\n",
    "        if f1_tree > best_f1:\n",
    "            best_f1 = f1_tree\n",
    "            best_depth = depth\n",
    "            best_min_samples_split = min_samples_split\n",
    "\n",
    "print(f\"Mejor f1 en validación: {best_f1} con max_depth={best_depth} y min_samples_split={best_min_samples_split}\")"
   ]
  },
  {
   "cell_type": "code",
   "execution_count": 19,
   "metadata": {},
   "outputs": [
    {
     "name": "stdout",
     "output_type": "stream",
     "text": [
      "Mejor f1 en validación: 0.6040268456375838 con max_depth=10, con min_sample_split=4 y n_estimators=80\n"
     ]
    }
   ],
   "source": [
    "# Modelo de bosque aleatorio\n",
    "best_f1 = 0\n",
    "best_depth = 0\n",
    "best_n_estimators = 0\n",
    "best_min_samples_split = 0\n",
    "for depth in range(1, 11):\n",
    "    for n_estimators in range(50, 100, 10): \n",
    "        for min_samples_split in range(2, 11):\n",
    "            model_forest = RandomForestClassifier(random_state=12345, max_depth=depth, n_estimators=n_estimators, min_samples_split = min_samples_split)\n",
    "            model_forest.fit(features_upsampled, target_upsampled)\n",
    "            predictions_valid = model_forest.predict(features_valid)\n",
    "            f1 = f1_score(target_valid, predictions_valid)\n",
    "            if f1 > best_f1:\n",
    "                best_f1 = f1\n",
    "                best_depth = depth\n",
    "                best_n_estimators = n_estimators\n",
    "                best_min_samples_split = min_samples_split\n",
    "\n",
    "print(f\"Mejor f1 en validación: {best_f1} con max_depth={best_depth}, con min_sample_split={best_min_samples_split} y n_estimators={best_n_estimators}\")"
   ]
  },
  {
   "cell_type": "code",
   "execution_count": 21,
   "metadata": {},
   "outputs": [
    {
     "name": "stdout",
     "output_type": "stream",
     "text": [
      "Mejores parámetros: {'C': 100, 'solver': 'liblinear'}\n",
      "Mejor exactitud en validación (con CV): 0.701864741003623\n"
     ]
    }
   ],
   "source": [
    "# Modelo de regresion lineal\n",
    "# Definir la búsqueda en cuadrícula de parámetros\n",
    "param_grid = {'C': [0.01, 0.1, 1, 10, 100],'solver': ['liblinear', 'lbfgs', 'newton-cg', 'sag', 'saga']}\n",
    "model_logisticReg = LogisticRegression(random_state=12345, max_iter=10000)\n",
    "# Configurar GridSearchCV\n",
    "grid_search = GridSearchCV(estimator=model_logisticReg, param_grid=param_grid, cv=5, scoring='accuracy')\n",
    "# Ejecutar la búsqueda en cuadrícula\n",
    "grid_search.fit(features_upsampled, target_upsampled)\n",
    "# Obtener los mejores parámetros y la mejor exactitud\n",
    "best_params = grid_search.best_params_\n",
    "best_accuracy = grid_search.best_score_\n",
    "print(f\"Mejores parámetros: {best_params}\")\n",
    "print(f\"Mejor exactitud en validación (con CV): {best_accuracy}\")"
   ]
  },
  {
   "cell_type": "markdown",
   "metadata": {},
   "source": [
    "Una vez realizo los modelos con la data equilibrada tenemos como resultado que el mejor modelo es un bosque aleatorio con f1=0.6040268456375838, max_depth=10, min_sample_split=4 y n_estimators=80"
   ]
  },
  {
   "cell_type": "markdown",
   "metadata": {},
   "source": [
    "# Entrenamiento final"
   ]
  },
  {
   "cell_type": "code",
   "execution_count": 23,
   "metadata": {},
   "outputs": [
    {
     "name": "stdout",
     "output_type": "stream",
     "text": [
      "F1 Score: 0.64\n",
      "AUC-ROC: 0.867432120785325\n",
      "Accuracy: 0.833\n"
     ]
    }
   ],
   "source": [
    "# Modelo de  bosque aleatorio con los mejores hiper parametros\n",
    "model_RandomForest = RandomForestClassifier(random_state=12345, max_depth=10, min_samples_split=4, n_estimators=80)\n",
    "model_RandomForest.fit(features_upsampled, target_upsampled)\n",
    "predicted_test = model_RandomForest.predict(features_test)\n",
    "f1 = f1_score(target_test, predicted_test)\n",
    "print(f'F1 Score: {f1:.2f}')\n",
    "y_pred_proba = model_RandomForest.predict_proba(features_test)[:, 1]\n",
    "auc_roc = roc_auc_score(target_test, y_pred_proba)\n",
    "print(f'AUC-ROC: {auc_roc}')\n",
    "accuracy = accuracy_score(target_test, predicted_test)\n",
    "print(f'Accuracy: {accuracy}')"
   ]
  },
  {
   "cell_type": "code",
   "execution_count": 29,
   "metadata": {},
   "outputs": [
    {
     "data": {
      "image/png": "[encoded data removed]",
      "text/plain": [
       "<Figure size 1200x600 with 1 Axes>"
      ]
     },
     "metadata": {},
     "output_type": "display_data"
    }
   ],
   "source": [
    "# Observemos el ajuste del umbral\n",
    "probabilities_test = model_RandomForest.predict_proba(features_test)\n",
    "probabilities_one_test = probabilities_test[:, 1]\n",
    "\n",
    "# Listas para almacenar las métricas en función del umbral\n",
    "thresholds = np.arange(0.2, 0.7, 0.02)\n",
    "precision_scores = []\n",
    "recall_scores = []\n",
    "f1_scores = []\n",
    "auc_roc_scores = []\n",
    "\n",
    "for threshold in thresholds:\n",
    "    predicted_test = probabilities_one_test > threshold\n",
    "    precision = precision_score(target_test, predicted_test)\n",
    "    recall = recall_score(target_test, predicted_test)\n",
    "    f1 = f1_score(target_test, predicted_test)\n",
    "    auc_roc = roc_auc_score(target_test, probabilities_one_test)\n",
    "    \n",
    "    precision_scores.append(precision)\n",
    "    recall_scores.append(recall)\n",
    "    f1_scores.append(f1)\n",
    "    auc_roc_scores.append(auc_roc)\n",
    "\n",
    "# Crear el gráfico\n",
    "plt.figure(figsize=(12, 6))\n",
    "plt.plot(thresholds, precision_scores, label='Precision')\n",
    "plt.plot(thresholds, recall_scores, label='Recall')\n",
    "plt.plot(thresholds, f1_scores, label='F1 Score')\n",
    "plt.plot(thresholds, auc_roc_scores, label='AUC-ROC')\n",
    "\n",
    "plt.xlabel('Threshold')\n",
    "plt.ylabel('Score')\n",
    "plt.title('Metrics at Different Thresholds')\n",
    "plt.legend()\n",
    "plt.grid(True)\n",
    "plt.show()"
   ]
  },
  {
   "cell_type": "markdown",
   "metadata": {},
   "source": [
    "Se rellenaron los valores ausentes y se ajustaron los tipos de datos en algunas columnas.\n",
    "\n",
    "Se eliminaron columnas sin utilidad para el modelo como 'RowNumber', 'CustomerId' y 'Surname'.\n",
    "\n",
    "Se crearon variables dummies para los valores de las columnas categóricas y se escalaron las columnas numéricas para preparar los datos para los modelos.\n",
    "\n",
    "Se dividió el conjunto de datos en subconjuntos de entrenamiento, validacion y prueba.\n",
    "\n",
    "Se realizon los modelos sin considerar el desbalanceo y nos arrojo que el mejor modelo es un bosque aleatorio con f1=0.5419354838709678\n",
    "\n",
    "Se crearon conjuntos de datos balanceados mediante sobremuestreo y ajuste de pesos de clase \n",
    "\n",
    "Se realizon los modelos nuevamente con la data balanceada nos arrojo que el mejor modelo es un bosque aleatorio con f1=0.6040268456375838, max_depth=10, min_sample_split=4 y n_estimators=80\n",
    "\n",
    "Threshold = 0.54 | Precision = 0.579, Recall = 0.639, F1 = 0.608, AUC-ROC = 0.853\n",
    "Evaluación en conjunto de prueba: El modelo mencionado se evaluó en el conjunto de prueba con resultados aún mejores:\n",
    "\n",
    "F1 Score: 0.63\n",
    "AUC-ROC: 0.864\n",
    "Accuracy: 0.829\n",
    "Ajuste de umbral: Se ajustó el umbral del modelo, superando el F1 requerido de 0.59:\n",
    "\n",
    "Threshold = 0.52 | Precision = 0.615, Recall = 0.674, F1 = 0.644, AUC-ROC: 0.864\n",
    "En resumen, el proyecto ha cumplido con éxito el objetivo de desarrollar un modelo predictivo robusto para identificar la posible salida de clientes, superando los criterios establecidos.\n",
    "\n"
   ]
  }
 ],
 "metadata": {
  "ExecuteTimeLog": [
   {
    "duration": 368,
    "start_time": "2024-09-01T18:31:31.042Z"
   },
   {
    "duration": 19,
    "start_time": "2024-09-01T18:32:16.162Z"
   },
   {
    "duration": 12,
    "start_time": "2024-09-01T18:32:46.629Z"
   },
   {
    "duration": 41,
    "start_time": "2024-09-01T18:33:19.773Z"
   },
   {
    "duration": 42,
    "start_time": "2024-09-01T18:33:25.323Z"
   },
   {
    "duration": 22,
    "start_time": "2024-09-01T18:50:24.619Z"
   },
   {
    "duration": 14,
    "start_time": "2024-09-01T18:50:36.491Z"
   },
   {
    "duration": 4,
    "start_time": "2024-09-01T18:50:46.764Z"
   },
   {
    "duration": 77,
    "start_time": "2024-09-01T19:06:05.903Z"
   },
   {
    "duration": 107,
    "start_time": "2024-09-01T19:38:25.138Z"
   },
   {
    "duration": 23,
    "start_time": "2024-09-01T19:38:34.746Z"
   },
   {
    "duration": 9,
    "start_time": "2024-09-01T19:39:05.240Z"
   },
   {
    "duration": 1869,
    "start_time": "2024-09-01T20:05:06.380Z"
   },
   {
    "duration": 32,
    "start_time": "2024-09-01T20:05:11.306Z"
   },
   {
    "duration": 135,
    "start_time": "2024-09-01T20:05:16.437Z"
   },
   {
    "duration": 428,
    "start_time": "2024-09-01T20:09:20.192Z"
   },
   {
    "duration": 3,
    "start_time": "2024-09-01T20:09:49.312Z"
   },
   {
    "duration": 26,
    "start_time": "2024-09-01T20:09:52.948Z"
   },
   {
    "duration": 8,
    "start_time": "2024-09-01T20:09:57.645Z"
   },
   {
    "duration": 27,
    "start_time": "2024-09-01T20:10:01.263Z"
   },
   {
    "duration": 4,
    "start_time": "2024-09-01T20:11:07.394Z"
   },
   {
    "duration": 140,
    "start_time": "2024-09-01T20:11:12.829Z"
   },
   {
    "duration": 2558,
    "start_time": "2024-09-01T21:08:11.588Z"
   },
   {
    "duration": 47,
    "start_time": "2024-09-01T21:08:19.247Z"
   },
   {
    "duration": 3,
    "start_time": "2024-09-01T21:08:24.865Z"
   },
   {
    "duration": 33,
    "start_time": "2024-09-01T21:08:27.792Z"
   },
   {
    "duration": 8,
    "start_time": "2024-09-01T21:08:30.701Z"
   },
   {
    "duration": 139,
    "start_time": "2024-09-01T21:08:40.387Z"
   },
   {
    "duration": 768,
    "start_time": "2024-09-01T21:08:49.525Z"
   },
   {
    "duration": 44,
    "start_time": "2024-09-01T21:09:01.158Z"
   },
   {
    "duration": 166,
    "start_time": "2024-09-01T21:20:21.332Z"
   },
   {
    "duration": 13,
    "start_time": "2024-09-01T21:21:46.189Z"
   },
   {
    "duration": 292,
    "start_time": "2024-09-01T21:23:29.828Z"
   },
   {
    "duration": 25,
    "start_time": "2024-09-01T21:23:54.021Z"
   },
   {
    "duration": 2539,
    "start_time": "2024-09-02T01:35:25.590Z"
   },
   {
    "duration": 49,
    "start_time": "2024-09-02T01:35:32.964Z"
   },
   {
    "duration": 3,
    "start_time": "2024-09-02T01:35:43.398Z"
   },
   {
    "duration": 27,
    "start_time": "2024-09-02T01:35:46.782Z"
   },
   {
    "duration": 8,
    "start_time": "2024-09-02T01:35:49.134Z"
   },
   {
    "duration": 278,
    "start_time": "2024-09-02T01:37:30.533Z"
   },
   {
    "duration": 154,
    "start_time": "2024-09-02T01:37:38.712Z"
   },
   {
    "duration": 152,
    "start_time": "2024-09-02T01:38:17.989Z"
   },
   {
    "duration": 153,
    "start_time": "2024-09-02T01:38:51.884Z"
   },
   {
    "duration": 15,
    "start_time": "2024-09-02T01:39:40.054Z"
   },
   {
    "duration": 385,
    "start_time": "2024-09-02T01:44:01.486Z"
   },
   {
    "duration": 372,
    "start_time": "2024-09-02T01:45:27.162Z"
   },
   {
    "duration": 63,
    "start_time": "2024-09-02T01:48:20.203Z"
   },
   {
    "duration": 62,
    "start_time": "2024-09-02T02:01:03.952Z"
   },
   {
    "duration": 129,
    "start_time": "2024-09-02T02:04:28.482Z"
   },
   {
    "duration": 43,
    "start_time": "2024-09-02T02:04:41.941Z"
   },
   {
    "duration": 862,
    "start_time": "2024-09-02T02:38:35.867Z"
   },
   {
    "duration": 36,
    "start_time": "2024-09-02T02:38:38.515Z"
   },
   {
    "duration": 3,
    "start_time": "2024-09-02T02:38:45.256Z"
   },
   {
    "duration": 26,
    "start_time": "2024-09-02T02:38:46.381Z"
   },
   {
    "duration": 7,
    "start_time": "2024-09-02T02:38:50.797Z"
   },
   {
    "duration": 34,
    "start_time": "2024-09-02T02:39:10.018Z"
   },
   {
    "duration": 873,
    "start_time": "2024-09-02T02:39:17.069Z"
   },
   {
    "duration": 638,
    "start_time": "2024-09-02T02:39:38.641Z"
   },
   {
    "duration": 46,
    "start_time": "2024-09-02T02:39:44.681Z"
   },
   {
    "duration": 3,
    "start_time": "2024-09-02T03:00:06.422Z"
   },
   {
    "duration": 34,
    "start_time": "2024-09-02T03:00:07.606Z"
   },
   {
    "duration": 160,
    "start_time": "2024-09-02T03:00:24.019Z"
   },
   {
    "duration": 894,
    "start_time": "2024-09-02T03:00:36.720Z"
   },
   {
    "duration": 33,
    "start_time": "2024-09-02T03:00:41.771Z"
   },
   {
    "duration": 3,
    "start_time": "2024-09-02T03:00:45.339Z"
   },
   {
    "duration": 28,
    "start_time": "2024-09-02T03:00:46.314Z"
   },
   {
    "duration": 9,
    "start_time": "2024-09-02T03:00:47.292Z"
   },
   {
    "duration": 36,
    "start_time": "2024-09-02T03:00:53.005Z"
   },
   {
    "duration": 689,
    "start_time": "2024-09-02T03:00:55.026Z"
   },
   {
    "duration": 44,
    "start_time": "2024-09-02T03:00:57.308Z"
   },
   {
    "duration": 6,
    "start_time": "2024-09-02T03:04:45.443Z"
   },
   {
    "duration": 14,
    "start_time": "2024-09-02T03:21:47.145Z"
   },
   {
    "duration": 65,
    "start_time": "2024-09-02T03:22:47.665Z"
   },
   {
    "duration": 1512,
    "start_time": "2024-09-02T03:23:18.937Z"
   },
   {
    "duration": 153,
    "start_time": "2024-09-02T03:24:17.933Z"
   },
   {
    "duration": 44,
    "start_time": "2024-09-02T03:24:26.185Z"
   },
   {
    "duration": 57,
    "start_time": "2024-09-02T03:24:32.068Z"
   },
   {
    "duration": 915,
    "start_time": "2024-09-02T03:24:39.990Z"
   },
   {
    "duration": 323,
    "start_time": "2024-09-02T03:25:09.905Z"
   },
   {
    "duration": 776,
    "start_time": "2024-09-02T03:25:17.552Z"
   },
   {
    "duration": 886,
    "start_time": "2024-09-02T03:25:22.888Z"
   },
   {
    "duration": 84,
    "start_time": "2024-09-02T03:26:10.953Z"
   },
   {
    "duration": 33,
    "start_time": "2024-09-02T03:30:25.417Z"
   },
   {
    "duration": 884,
    "start_time": "2024-09-02T03:40:27.008Z"
   },
   {
    "duration": 34,
    "start_time": "2024-09-02T03:40:27.994Z"
   },
   {
    "duration": 3,
    "start_time": "2024-09-02T03:40:33.591Z"
   },
   {
    "duration": 26,
    "start_time": "2024-09-02T03:40:35.610Z"
   },
   {
    "duration": 8,
    "start_time": "2024-09-02T03:40:37.413Z"
   },
   {
    "duration": 56,
    "start_time": "2024-09-02T03:40:43.244Z"
   },
   {
    "duration": 35,
    "start_time": "2024-09-02T03:41:33.916Z"
   },
   {
    "duration": 642,
    "start_time": "2024-09-02T03:41:35.853Z"
   },
   {
    "duration": 18,
    "start_time": "2024-09-02T03:41:49.287Z"
   },
   {
    "duration": 7,
    "start_time": "2024-09-02T03:42:09.142Z"
   },
   {
    "duration": 15,
    "start_time": "2024-09-02T03:42:18.981Z"
   },
   {
    "duration": 65,
    "start_time": "2024-09-02T03:42:22.879Z"
   },
   {
    "duration": 878,
    "start_time": "2024-09-02T03:42:24.936Z"
   },
   {
    "duration": 9,
    "start_time": "2024-09-02T03:48:14.884Z"
   },
   {
    "duration": 245,
    "start_time": "2024-09-02T03:52:02.295Z"
   },
   {
    "duration": 260,
    "start_time": "2024-09-02T03:56:27.873Z"
   },
   {
    "duration": 1875,
    "start_time": "2024-09-02T03:56:51.049Z"
   },
   {
    "duration": 33,
    "start_time": "2024-09-02T03:58:18.022Z"
   },
   {
    "duration": 98,
    "start_time": "2024-09-02T04:18:36.556Z"
   },
   {
    "duration": 100,
    "start_time": "2024-09-02T04:18:52.241Z"
   },
   {
    "duration": 3,
    "start_time": "2024-09-02T04:19:16.975Z"
   },
   {
    "duration": 195,
    "start_time": "2024-09-02T04:19:22.978Z"
   },
   {
    "duration": 184,
    "start_time": "2024-09-02T04:19:58.603Z"
   },
   {
    "duration": 848,
    "start_time": "2024-09-02T04:21:38.547Z"
   },
   {
    "duration": 33,
    "start_time": "2024-09-02T04:21:42.270Z"
   },
   {
    "duration": 4,
    "start_time": "2024-09-02T04:21:45.522Z"
   },
   {
    "duration": 26,
    "start_time": "2024-09-02T04:21:46.834Z"
   },
   {
    "duration": 8,
    "start_time": "2024-09-02T04:21:47.984Z"
   },
   {
    "duration": 77,
    "start_time": "2024-09-02T04:21:54.976Z"
   },
   {
    "duration": 639,
    "start_time": "2024-09-02T04:21:57.557Z"
   },
   {
    "duration": 52,
    "start_time": "2024-09-02T04:22:00.647Z"
   },
   {
    "duration": 7,
    "start_time": "2024-09-02T04:22:07.958Z"
   },
   {
    "duration": 15,
    "start_time": "2024-09-02T04:22:17.083Z"
   },
   {
    "duration": 11,
    "start_time": "2024-09-02T04:22:18.650Z"
   },
   {
    "duration": 219,
    "start_time": "2024-09-02T04:22:24.232Z"
   },
   {
    "duration": 1168,
    "start_time": "2024-09-02T04:22:33.337Z"
   },
   {
    "duration": 101,
    "start_time": "2024-09-02T04:22:54.310Z"
   },
   {
    "duration": 194,
    "start_time": "2024-09-02T04:22:56.713Z"
   },
   {
    "duration": 863,
    "start_time": "2024-09-03T00:59:13.980Z"
   },
   {
    "duration": 37,
    "start_time": "2024-09-03T00:59:14.845Z"
   },
   {
    "duration": 4,
    "start_time": "2024-09-03T00:59:14.883Z"
   },
   {
    "duration": 29,
    "start_time": "2024-09-03T00:59:14.889Z"
   },
   {
    "duration": 63,
    "start_time": "2024-09-03T00:59:14.921Z"
   },
   {
    "duration": 47,
    "start_time": "2024-09-03T00:59:14.985Z"
   },
   {
    "duration": 645,
    "start_time": "2024-09-03T00:59:15.033Z"
   },
   {
    "duration": 52,
    "start_time": "2024-09-03T00:59:15.680Z"
   },
   {
    "duration": 7,
    "start_time": "2024-09-03T00:59:15.734Z"
   },
   {
    "duration": 70,
    "start_time": "2024-09-03T00:59:15.743Z"
   },
   {
    "duration": 14,
    "start_time": "2024-09-03T00:59:15.817Z"
   },
   {
    "duration": 294,
    "start_time": "2024-09-03T00:59:15.832Z"
   },
   {
    "duration": 1171,
    "start_time": "2024-09-03T00:59:16.128Z"
   },
   {
    "duration": 105,
    "start_time": "2024-09-03T00:59:17.305Z"
   },
   {
    "duration": 280,
    "start_time": "2024-09-03T00:59:17.412Z"
   },
   {
    "duration": 2598,
    "start_time": "2024-09-05T00:16:31.404Z"
   },
   {
    "duration": 37,
    "start_time": "2024-09-05T00:16:38.686Z"
   },
   {
    "duration": 3,
    "start_time": "2024-09-05T00:16:42.411Z"
   },
   {
    "duration": 25,
    "start_time": "2024-09-05T00:16:43.359Z"
   },
   {
    "duration": 7,
    "start_time": "2024-09-05T00:16:45.745Z"
   },
   {
    "duration": 115,
    "start_time": "2024-09-05T00:16:47.912Z"
   },
   {
    "duration": 567,
    "start_time": "2024-09-05T00:19:06.482Z"
   },
   {
    "duration": 905,
    "start_time": "2024-09-05T00:20:47.395Z"
   },
   {
    "duration": 33,
    "start_time": "2024-09-05T00:20:51.294Z"
   },
   {
    "duration": 3,
    "start_time": "2024-09-05T00:20:56.092Z"
   },
   {
    "duration": 26,
    "start_time": "2024-09-05T00:20:58.484Z"
   },
   {
    "duration": 8,
    "start_time": "2024-09-05T00:21:00.888Z"
   },
   {
    "duration": 146,
    "start_time": "2024-09-05T00:21:03.880Z"
   },
   {
    "duration": 88,
    "start_time": "2024-09-05T00:21:12.873Z"
   },
   {
    "duration": 225,
    "start_time": "2024-09-05T00:21:20.850Z"
   },
   {
    "duration": 91,
    "start_time": "2024-09-05T00:21:35.425Z"
   },
   {
    "duration": 91,
    "start_time": "2024-09-05T00:21:40.134Z"
   },
   {
    "duration": 45,
    "start_time": "2024-09-05T00:29:25.860Z"
   },
   {
    "duration": 33,
    "start_time": "2024-09-05T00:29:43.816Z"
   },
   {
    "duration": 707,
    "start_time": "2024-09-05T00:29:54.439Z"
   },
   {
    "duration": 42,
    "start_time": "2024-09-05T00:30:32.425Z"
   },
   {
    "duration": 7,
    "start_time": "2024-09-05T00:30:55.766Z"
   },
   {
    "duration": 15,
    "start_time": "2024-09-05T00:30:59.380Z"
   },
   {
    "duration": 12,
    "start_time": "2024-09-05T00:31:01.418Z"
   },
   {
    "duration": 512,
    "start_time": "2024-09-05T00:31:20.735Z"
   },
   {
    "duration": 563,
    "start_time": "2024-09-05T00:31:33.577Z"
   },
   {
    "duration": 10679,
    "start_time": "2024-09-05T00:32:08.067Z"
   },
   {
    "duration": 123,
    "start_time": "2024-09-05T00:32:48.304Z"
   },
   {
    "duration": 227,
    "start_time": "2024-09-05T00:32:53.405Z"
   },
   {
    "duration": 2637,
    "start_time": "2024-09-06T00:53:48.354Z"
   },
   {
    "duration": 49,
    "start_time": "2024-09-06T00:53:55.158Z"
   },
   {
    "duration": 3,
    "start_time": "2024-09-06T00:53:59.241Z"
   },
   {
    "duration": 28,
    "start_time": "2024-09-06T00:54:00.347Z"
   },
   {
    "duration": 10,
    "start_time": "2024-09-06T00:54:01.410Z"
   },
   {
    "duration": 100,
    "start_time": "2024-09-06T00:54:05.445Z"
   },
   {
    "duration": 88,
    "start_time": "2024-09-06T00:54:08.662Z"
   },
   {
    "duration": 187,
    "start_time": "2024-09-06T00:54:11.110Z"
   },
   {
    "duration": 92,
    "start_time": "2024-09-06T00:54:22.561Z"
   },
   {
    "duration": 34,
    "start_time": "2024-09-06T00:54:31.104Z"
   },
   {
    "duration": 697,
    "start_time": "2024-09-06T00:54:33.161Z"
   },
   {
    "duration": 44,
    "start_time": "2024-09-06T00:54:36.601Z"
   },
   {
    "duration": 2663,
    "start_time": "2024-09-09T01:37:55.204Z"
   },
   {
    "duration": 47,
    "start_time": "2024-09-09T01:37:57.992Z"
   },
   {
    "duration": 3,
    "start_time": "2024-09-09T01:38:02.075Z"
   },
   {
    "duration": 26,
    "start_time": "2024-09-09T01:38:02.868Z"
   },
   {
    "duration": 7,
    "start_time": "2024-09-09T01:38:03.666Z"
   },
   {
    "duration": 98,
    "start_time": "2024-09-09T01:38:04.848Z"
   },
   {
    "duration": 93,
    "start_time": "2024-09-09T01:38:07.196Z"
   },
   {
    "duration": 88,
    "start_time": "2024-09-09T01:38:10.865Z"
   },
   {
    "duration": 89,
    "start_time": "2024-09-09T01:38:13.386Z"
   },
   {
    "duration": 34,
    "start_time": "2024-09-09T01:38:19.736Z"
   },
   {
    "duration": 639,
    "start_time": "2024-09-09T01:38:21.924Z"
   },
   {
    "duration": 43,
    "start_time": "2024-09-09T01:38:24.082Z"
   },
   {
    "duration": 6,
    "start_time": "2024-09-09T01:39:01.569Z"
   },
   {
    "duration": 11,
    "start_time": "2024-09-09T01:39:02.528Z"
   },
   {
    "duration": 12,
    "start_time": "2024-09-09T01:39:05.277Z"
   },
   {
    "duration": 297,
    "start_time": "2024-09-09T01:39:14.447Z"
   },
   {
    "duration": 23593,
    "start_time": "2024-09-09T01:39:46.340Z"
   },
   {
    "duration": 23509,
    "start_time": "2024-09-09T01:45:20.397Z"
   },
   {
    "duration": 194583,
    "start_time": "2024-09-09T01:50:20.901Z"
   },
   {
    "duration": 158,
    "start_time": "2024-09-09T02:20:35.712Z"
   },
   {
    "duration": 842,
    "start_time": "2024-09-09T02:20:47.328Z"
   },
   {
    "duration": 35,
    "start_time": "2024-09-09T02:20:51.706Z"
   },
   {
    "duration": 4,
    "start_time": "2024-09-09T02:20:55.868Z"
   },
   {
    "duration": 14,
    "start_time": "2024-09-09T02:20:57.029Z"
   },
   {
    "duration": 29,
    "start_time": "2024-09-09T02:21:04.694Z"
   },
   {
    "duration": 15,
    "start_time": "2024-09-09T02:21:15.369Z"
   },
   {
    "duration": 164,
    "start_time": "2024-09-09T02:21:34.324Z"
   },
   {
    "duration": 95,
    "start_time": "2024-09-09T02:21:41.050Z"
   },
   {
    "duration": 90,
    "start_time": "2024-09-09T02:21:43.903Z"
   },
   {
    "duration": 249,
    "start_time": "2024-09-09T02:21:46.201Z"
   },
   {
    "duration": 877,
    "start_time": "2024-09-09T02:22:21.908Z"
   },
   {
    "duration": 33,
    "start_time": "2024-09-09T02:22:23.710Z"
   },
   {
    "duration": 4,
    "start_time": "2024-09-09T02:22:24.845Z"
   },
   {
    "duration": 14,
    "start_time": "2024-09-09T02:22:25.779Z"
   },
   {
    "duration": 28,
    "start_time": "2024-09-09T02:22:26.797Z"
   },
   {
    "duration": 14,
    "start_time": "2024-09-09T02:22:27.797Z"
   },
   {
    "duration": 157,
    "start_time": "2024-09-09T02:22:29.096Z"
   },
   {
    "duration": 98,
    "start_time": "2024-09-09T02:22:30.115Z"
   },
   {
    "duration": 88,
    "start_time": "2024-09-09T02:22:31.507Z"
   },
   {
    "duration": 95,
    "start_time": "2024-09-09T02:22:35.390Z"
   },
   {
    "duration": 30,
    "start_time": "2024-09-09T02:22:45.727Z"
   },
   {
    "duration": 562,
    "start_time": "2024-09-09T02:22:48.721Z"
   },
   {
    "duration": 33,
    "start_time": "2024-09-09T02:22:53.124Z"
   },
   {
    "duration": 6,
    "start_time": "2024-09-09T02:23:06.161Z"
   },
   {
    "duration": 13,
    "start_time": "2024-09-09T02:23:10.960Z"
   },
   {
    "duration": 13,
    "start_time": "2024-09-09T02:23:16.219Z"
   },
   {
    "duration": 23854,
    "start_time": "2024-09-09T02:23:26.071Z"
   },
   {
    "duration": 181366,
    "start_time": "2024-09-09T02:24:00.876Z"
   },
   {
    "duration": 914,
    "start_time": "2024-09-09T02:35:46.812Z"
   },
   {
    "duration": 33,
    "start_time": "2024-09-09T02:35:51.970Z"
   },
   {
    "duration": 4,
    "start_time": "2024-09-09T02:35:53.258Z"
   },
   {
    "duration": 16,
    "start_time": "2024-09-09T02:35:55.204Z"
   },
   {
    "duration": 33,
    "start_time": "2024-09-09T02:35:56.243Z"
   },
   {
    "duration": 14,
    "start_time": "2024-09-09T02:35:57.247Z"
   },
   {
    "duration": 145,
    "start_time": "2024-09-09T02:35:58.254Z"
   },
   {
    "duration": 91,
    "start_time": "2024-09-09T02:35:59.324Z"
   },
   {
    "duration": 88,
    "start_time": "2024-09-09T02:36:00.116Z"
   },
   {
    "duration": 86,
    "start_time": "2024-09-09T02:36:01.090Z"
   },
   {
    "duration": 30,
    "start_time": "2024-09-09T02:36:07.346Z"
   },
   {
    "duration": 562,
    "start_time": "2024-09-09T02:36:08.663Z"
   },
   {
    "duration": 23,
    "start_time": "2024-09-09T02:36:12.202Z"
   },
   {
    "duration": 7,
    "start_time": "2024-09-09T02:36:19.737Z"
   },
   {
    "duration": 16,
    "start_time": "2024-09-09T02:36:22.376Z"
   },
   {
    "duration": 898,
    "start_time": "2024-09-09T02:40:13.885Z"
   },
   {
    "duration": 32,
    "start_time": "2024-09-09T02:40:18.603Z"
   },
   {
    "duration": 6,
    "start_time": "2024-09-09T02:40:25.986Z"
   },
   {
    "duration": 15,
    "start_time": "2024-09-09T02:40:27.701Z"
   },
   {
    "duration": 29,
    "start_time": "2024-09-09T02:40:28.976Z"
   },
   {
    "duration": 15,
    "start_time": "2024-09-09T02:40:29.868Z"
   },
   {
    "duration": 147,
    "start_time": "2024-09-09T02:40:30.854Z"
   },
   {
    "duration": 87,
    "start_time": "2024-09-09T02:40:32.123Z"
   },
   {
    "duration": 91,
    "start_time": "2024-09-09T02:40:32.856Z"
   },
   {
    "duration": 88,
    "start_time": "2024-09-09T02:40:33.590Z"
   },
   {
    "duration": 29,
    "start_time": "2024-09-09T02:40:38.744Z"
   },
   {
    "duration": 565,
    "start_time": "2024-09-09T02:40:39.507Z"
   },
   {
    "duration": 24,
    "start_time": "2024-09-09T02:40:42.080Z"
   },
   {
    "duration": 7,
    "start_time": "2024-09-09T02:40:48.055Z"
   },
   {
    "duration": 15,
    "start_time": "2024-09-09T02:41:16.128Z"
   },
   {
    "duration": 19710,
    "start_time": "2024-09-09T02:41:25.545Z"
   },
   {
    "duration": 127921,
    "start_time": "2024-09-09T02:41:54.149Z"
   },
   {
    "duration": 19759,
    "start_time": "2024-09-09T02:44:26.349Z"
   },
   {
    "duration": 127813,
    "start_time": "2024-09-09T02:45:01.070Z"
   },
   {
    "duration": 3,
    "start_time": "2024-09-09T02:47:30.881Z"
   },
   {
    "duration": 38513,
    "start_time": "2024-09-09T02:50:44.857Z"
   },
   {
    "duration": 709,
    "start_time": "2024-09-09T02:58:44.908Z"
   },
   {
    "duration": 512,
    "start_time": "2024-09-09T02:59:31.573Z"
   },
   {
    "duration": 40,
    "start_time": "2024-09-09T02:59:37.721Z"
   },
   {
    "duration": 3,
    "start_time": "2024-09-09T03:00:24.271Z"
   },
   {
    "duration": 38,
    "start_time": "2024-09-09T03:00:32.475Z"
   },
   {
    "duration": 42,
    "start_time": "2024-09-09T03:01:03.226Z"
   },
   {
    "duration": 4,
    "start_time": "2024-09-09T03:01:31.093Z"
   },
   {
    "duration": 347,
    "start_time": "2024-09-09T03:01:40.335Z"
   }
  ],
  "kernelspec": {
   "display_name": "Python 3 (ipykernel)",
   "language": "python",
   "name": "python3"
  },
  "language_info": {
   "codemirror_mode": {
    "name": "ipython",
    "version": 3
   },
   "file_extension": ".py",
   "mimetype": "text/x-python",
   "name": "python",
   "nbconvert_exporter": "python",
   "pygments_lexer": "ipython3",
   "version": "3.9.19"
  },
  "toc": {
   "base_numbering": 1,
   "nav_menu": {},
   "number_sections": true,
   "sideBar": true,
   "skip_h1_title": true,
   "title_cell": "Table of Contents",
   "title_sidebar": "Contents",
   "toc_cell": false,
   "toc_position": {},
   "toc_section_display": true,
   "toc_window_display": false
  }
 },
 "nbformat": 4,
 "nbformat_minor": 2
}
